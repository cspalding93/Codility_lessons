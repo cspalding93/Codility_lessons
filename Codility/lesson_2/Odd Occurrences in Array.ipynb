{
 "cells": [
  {
   "cell_type": "markdown",
   "metadata": {},
   "source": [
    "Answer to Lesson 2 test 2"
   ]
  },
  {
   "cell_type": "code",
   "execution_count": 49,
   "metadata": {
    "scrolled": true
   },
   "outputs": [
    {
     "data": {
      "text/plain": [
       "15"
      ]
     },
     "execution_count": 49,
     "metadata": {},
     "output_type": "execute_result"
    }
   ],
   "source": [
    "Z = [1, 1, 2, 2, 3, 3, 7, 8, 8, 18, 18, 23, 23, 15, 7]\n",
    "\n",
    "#using the XOR operator will filter on a binary level\n",
    "def solution(A):\n",
    "    res = 0\n",
    "    for e in A:\n",
    "        res = res^e\n",
    "    return res\n",
    "\n",
    "solution(Z)"
   ]
  }
 ],
 "metadata": {
  "kernelspec": {
   "display_name": "Python 3",
   "language": "python",
   "name": "python3"
  },
  "language_info": {
   "codemirror_mode": {
    "name": "ipython",
    "version": 3
   },
   "file_extension": ".py",
   "mimetype": "text/x-python",
   "name": "python",
   "nbconvert_exporter": "python",
   "pygments_lexer": "ipython3",
   "version": "3.7.3"
  }
 },
 "nbformat": 4,
 "nbformat_minor": 2
}
