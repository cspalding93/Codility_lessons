{
 "cells": [
  {
   "cell_type": "markdown",
   "metadata": {},
   "source": [
    "Answer to the Lesson 1 test 1."
   ]
  },
  {
   "cell_type": "code",
   "execution_count": 105,
   "metadata": {},
   "outputs": [],
   "source": [
    "n = 539331541\n",
    "def solution(n):\n",
    "    # I can transform the binary into a string and use the split function to separate the gaps\n",
    "    # binary always starts with \"0b\" so that part can be cut off when assigning the string/binary object\n",
    "    gap_lengths = []\n",
    "    binary_form = str(bin(n))[2:]\n",
    "    gaps = binary_form.split(\"1\")\n",
    "    \n",
    "    # the first digit in binary is always 1 so I just need to look for the ending\n",
    "    # I eliminate the last item because 1.) if it ends in a 1, then it will be an empty string and ...\n",
    "    # ... 2.) if it ends in a sequence of 0's, then it is not a gap\n",
    "    del gaps[-1]           \n",
    "    \n",
    "    # since all the 0 sequences are strings, a set will reduce the items to search and now I just need the length of the string!\n",
    "    # if the length of the set is 0, then there are no gaps to count, return 0\n",
    "    if len(set(gaps)):\n",
    "        return max(map(lambda x: len(x), gaps))\n",
    "    else:\n",
    "        return 0\n"
   ]
  },
  {
   "cell_type": "code",
   "execution_count": 106,
   "metadata": {},
   "outputs": [
    {
     "data": {
      "text/plain": [
       "28"
      ]
     },
     "execution_count": 106,
     "metadata": {},
     "output_type": "execute_result"
    }
   ],
   "source": [
    "solution(536870913)"
   ]
  },
  {
   "cell_type": "code",
   "execution_count": 90,
   "metadata": {},
   "outputs": [
    {
     "data": {
      "text/plain": [
       "'100000000000000000000000000000'"
      ]
     },
     "execution_count": 90,
     "metadata": {},
     "output_type": "execute_result"
    }
   ],
   "source": [
    "str(bin(536870912))[2:]"
   ]
  },
  {
   "cell_type": "code",
   "execution_count": null,
   "metadata": {},
   "outputs": [],
   "source": []
  }
 ],
 "metadata": {
  "kernelspec": {
   "display_name": "Python 3",
   "language": "python",
   "name": "python3"
  },
  "language_info": {
   "codemirror_mode": {
    "name": "ipython",
    "version": 3
   },
   "file_extension": ".py",
   "mimetype": "text/x-python",
   "name": "python",
   "nbconvert_exporter": "python",
   "pygments_lexer": "ipython3",
   "version": "3.7.3"
  }
 },
 "nbformat": 4,
 "nbformat_minor": 2
}
